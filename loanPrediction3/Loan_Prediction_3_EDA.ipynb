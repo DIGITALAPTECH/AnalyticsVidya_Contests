{
 "cells": [
  {
   "cell_type": "markdown",
   "metadata": {},
   "source": [
    "### Boring Setups"
   ]
  },
  {
   "cell_type": "code",
   "execution_count": 329,
   "metadata": {},
   "outputs": [],
   "source": [
    "import pandas as pd\n",
    "import numpy as np\n",
    "import sklearn\n",
    "import seaborn as sns\n",
    "import matplotlib.pylab as plt"
   ]
  },
  {
   "cell_type": "code",
   "execution_count": 330,
   "metadata": {
    "collapsed": true
   },
   "outputs": [],
   "source": [
    "dtrain = pd.read_csv('data/train.csv')\n",
    "dtest = pd.read_csv('data/test.csv')"
   ]
  },
  {
   "cell_type": "markdown",
   "metadata": {},
   "source": [
    "### Data sizes"
   ]
  },
  {
   "cell_type": "code",
   "execution_count": 331,
   "metadata": {},
   "outputs": [
    {
     "data": {
      "text/plain": [
       "(614, 13)"
      ]
     },
     "execution_count": 331,
     "metadata": {},
     "output_type": "execute_result"
    }
   ],
   "source": [
    "dtrain.shape"
   ]
  },
  {
   "cell_type": "code",
   "execution_count": 332,
   "metadata": {},
   "outputs": [
    {
     "data": {
      "text/plain": [
       "(367, 12)"
      ]
     },
     "execution_count": 332,
     "metadata": {},
     "output_type": "execute_result"
    }
   ],
   "source": [
    "dtest.shape"
   ]
  },
  {
   "cell_type": "markdown",
   "metadata": {},
   "source": [
    "### Data at a Galance"
   ]
  },
  {
   "cell_type": "code",
   "execution_count": 333,
   "metadata": {},
   "outputs": [
    {
     "data": {
      "text/html": [
       "<div>\n",
       "<style>\n",
       "    .dataframe thead tr:only-child th {\n",
       "        text-align: right;\n",
       "    }\n",
       "\n",
       "    .dataframe thead th {\n",
       "        text-align: left;\n",
       "    }\n",
       "\n",
       "    .dataframe tbody tr th {\n",
       "        vertical-align: top;\n",
       "    }\n",
       "</style>\n",
       "<table border=\"1\" class=\"dataframe\">\n",
       "  <thead>\n",
       "    <tr style=\"text-align: right;\">\n",
       "      <th></th>\n",
       "      <th>Loan_ID</th>\n",
       "      <th>Gender</th>\n",
       "      <th>Married</th>\n",
       "      <th>Dependents</th>\n",
       "      <th>Education</th>\n",
       "      <th>Self_Employed</th>\n",
       "      <th>ApplicantIncome</th>\n",
       "      <th>CoapplicantIncome</th>\n",
       "      <th>LoanAmount</th>\n",
       "      <th>Loan_Amount_Term</th>\n",
       "      <th>Credit_History</th>\n",
       "      <th>Property_Area</th>\n",
       "      <th>Loan_Status</th>\n",
       "    </tr>\n",
       "  </thead>\n",
       "  <tbody>\n",
       "    <tr>\n",
       "      <th>0</th>\n",
       "      <td>LP001002</td>\n",
       "      <td>Male</td>\n",
       "      <td>No</td>\n",
       "      <td>0</td>\n",
       "      <td>Graduate</td>\n",
       "      <td>No</td>\n",
       "      <td>5849</td>\n",
       "      <td>0.0</td>\n",
       "      <td>NaN</td>\n",
       "      <td>360.0</td>\n",
       "      <td>1.0</td>\n",
       "      <td>Urban</td>\n",
       "      <td>Y</td>\n",
       "    </tr>\n",
       "    <tr>\n",
       "      <th>1</th>\n",
       "      <td>LP001003</td>\n",
       "      <td>Male</td>\n",
       "      <td>Yes</td>\n",
       "      <td>1</td>\n",
       "      <td>Graduate</td>\n",
       "      <td>No</td>\n",
       "      <td>4583</td>\n",
       "      <td>1508.0</td>\n",
       "      <td>128.0</td>\n",
       "      <td>360.0</td>\n",
       "      <td>1.0</td>\n",
       "      <td>Rural</td>\n",
       "      <td>N</td>\n",
       "    </tr>\n",
       "    <tr>\n",
       "      <th>2</th>\n",
       "      <td>LP001005</td>\n",
       "      <td>Male</td>\n",
       "      <td>Yes</td>\n",
       "      <td>0</td>\n",
       "      <td>Graduate</td>\n",
       "      <td>Yes</td>\n",
       "      <td>3000</td>\n",
       "      <td>0.0</td>\n",
       "      <td>66.0</td>\n",
       "      <td>360.0</td>\n",
       "      <td>1.0</td>\n",
       "      <td>Urban</td>\n",
       "      <td>Y</td>\n",
       "    </tr>\n",
       "    <tr>\n",
       "      <th>3</th>\n",
       "      <td>LP001006</td>\n",
       "      <td>Male</td>\n",
       "      <td>Yes</td>\n",
       "      <td>0</td>\n",
       "      <td>Not Graduate</td>\n",
       "      <td>No</td>\n",
       "      <td>2583</td>\n",
       "      <td>2358.0</td>\n",
       "      <td>120.0</td>\n",
       "      <td>360.0</td>\n",
       "      <td>1.0</td>\n",
       "      <td>Urban</td>\n",
       "      <td>Y</td>\n",
       "    </tr>\n",
       "    <tr>\n",
       "      <th>4</th>\n",
       "      <td>LP001008</td>\n",
       "      <td>Male</td>\n",
       "      <td>No</td>\n",
       "      <td>0</td>\n",
       "      <td>Graduate</td>\n",
       "      <td>No</td>\n",
       "      <td>6000</td>\n",
       "      <td>0.0</td>\n",
       "      <td>141.0</td>\n",
       "      <td>360.0</td>\n",
       "      <td>1.0</td>\n",
       "      <td>Urban</td>\n",
       "      <td>Y</td>\n",
       "    </tr>\n",
       "  </tbody>\n",
       "</table>\n",
       "</div>"
      ],
      "text/plain": [
       "    Loan_ID Gender Married Dependents     Education Self_Employed  \\\n",
       "0  LP001002   Male      No          0      Graduate            No   \n",
       "1  LP001003   Male     Yes          1      Graduate            No   \n",
       "2  LP001005   Male     Yes          0      Graduate           Yes   \n",
       "3  LP001006   Male     Yes          0  Not Graduate            No   \n",
       "4  LP001008   Male      No          0      Graduate            No   \n",
       "\n",
       "   ApplicantIncome  CoapplicantIncome  LoanAmount  Loan_Amount_Term  \\\n",
       "0             5849                0.0         NaN             360.0   \n",
       "1             4583             1508.0       128.0             360.0   \n",
       "2             3000                0.0        66.0             360.0   \n",
       "3             2583             2358.0       120.0             360.0   \n",
       "4             6000                0.0       141.0             360.0   \n",
       "\n",
       "   Credit_History Property_Area Loan_Status  \n",
       "0             1.0         Urban           Y  \n",
       "1             1.0         Rural           N  \n",
       "2             1.0         Urban           Y  \n",
       "3             1.0         Urban           Y  \n",
       "4             1.0         Urban           Y  "
      ]
     },
     "execution_count": 333,
     "metadata": {},
     "output_type": "execute_result"
    }
   ],
   "source": [
    "dtrain.head()"
   ]
  },
  {
   "cell_type": "markdown",
   "metadata": {},
   "source": [
    "### Features and their Distributions"
   ]
  },
  {
   "cell_type": "markdown",
   "metadata": {},
   "source": [
    "##### 1 .Feature Names"
   ]
  },
  {
   "cell_type": "code",
   "execution_count": 334,
   "metadata": {},
   "outputs": [
    {
     "data": {
      "text/plain": [
       "array(['Loan_ID', 'Gender', 'Married', 'Dependents', 'Education',\n",
       "       'Self_Employed', 'ApplicantIncome', 'CoapplicantIncome',\n",
       "       'LoanAmount', 'Loan_Amount_Term', 'Credit_History', 'Property_Area',\n",
       "       'Loan_Status'], dtype=object)"
      ]
     },
     "execution_count": 334,
     "metadata": {},
     "output_type": "execute_result"
    }
   ],
   "source": [
    "dtrain.columns.values"
   ]
  },
  {
   "cell_type": "markdown",
   "metadata": {},
   "source": [
    "##### 2. Null Counts"
   ]
  },
  {
   "cell_type": "code",
   "execution_count": 335,
   "metadata": {},
   "outputs": [
    {
     "data": {
      "text/html": [
       "<div>\n",
       "<style>\n",
       "    .dataframe thead tr:only-child th {\n",
       "        text-align: right;\n",
       "    }\n",
       "\n",
       "    .dataframe thead th {\n",
       "        text-align: left;\n",
       "    }\n",
       "\n",
       "    .dataframe tbody tr th {\n",
       "        vertical-align: top;\n",
       "    }\n",
       "</style>\n",
       "<table border=\"1\" class=\"dataframe\">\n",
       "  <thead>\n",
       "    <tr style=\"text-align: right;\">\n",
       "      <th></th>\n",
       "      <th>Features</th>\n",
       "      <th>Nulls</th>\n",
       "    </tr>\n",
       "  </thead>\n",
       "  <tbody>\n",
       "    <tr>\n",
       "      <th>0</th>\n",
       "      <td>Loan_ID</td>\n",
       "      <td>0</td>\n",
       "    </tr>\n",
       "    <tr>\n",
       "      <th>1</th>\n",
       "      <td>Gender</td>\n",
       "      <td>13</td>\n",
       "    </tr>\n",
       "    <tr>\n",
       "      <th>2</th>\n",
       "      <td>Married</td>\n",
       "      <td>3</td>\n",
       "    </tr>\n",
       "    <tr>\n",
       "      <th>3</th>\n",
       "      <td>Dependents</td>\n",
       "      <td>15</td>\n",
       "    </tr>\n",
       "    <tr>\n",
       "      <th>4</th>\n",
       "      <td>Education</td>\n",
       "      <td>0</td>\n",
       "    </tr>\n",
       "    <tr>\n",
       "      <th>5</th>\n",
       "      <td>Self_Employed</td>\n",
       "      <td>32</td>\n",
       "    </tr>\n",
       "    <tr>\n",
       "      <th>6</th>\n",
       "      <td>ApplicantIncome</td>\n",
       "      <td>0</td>\n",
       "    </tr>\n",
       "    <tr>\n",
       "      <th>7</th>\n",
       "      <td>CoapplicantIncome</td>\n",
       "      <td>0</td>\n",
       "    </tr>\n",
       "    <tr>\n",
       "      <th>8</th>\n",
       "      <td>LoanAmount</td>\n",
       "      <td>22</td>\n",
       "    </tr>\n",
       "    <tr>\n",
       "      <th>9</th>\n",
       "      <td>Loan_Amount_Term</td>\n",
       "      <td>14</td>\n",
       "    </tr>\n",
       "    <tr>\n",
       "      <th>10</th>\n",
       "      <td>Credit_History</td>\n",
       "      <td>50</td>\n",
       "    </tr>\n",
       "    <tr>\n",
       "      <th>11</th>\n",
       "      <td>Property_Area</td>\n",
       "      <td>0</td>\n",
       "    </tr>\n",
       "    <tr>\n",
       "      <th>12</th>\n",
       "      <td>Loan_Status</td>\n",
       "      <td>0</td>\n",
       "    </tr>\n",
       "  </tbody>\n",
       "</table>\n",
       "</div>"
      ],
      "text/plain": [
       "             Features  Nulls\n",
       "0             Loan_ID      0\n",
       "1              Gender     13\n",
       "2             Married      3\n",
       "3          Dependents     15\n",
       "4           Education      0\n",
       "5       Self_Employed     32\n",
       "6     ApplicantIncome      0\n",
       "7   CoapplicantIncome      0\n",
       "8          LoanAmount     22\n",
       "9    Loan_Amount_Term     14\n",
       "10     Credit_History     50\n",
       "11      Property_Area      0\n",
       "12        Loan_Status      0"
      ]
     },
     "execution_count": 335,
     "metadata": {},
     "output_type": "execute_result"
    }
   ],
   "source": [
    "nullCount = [dtrain[cols].isnull().sum() for cols in dtrain.columns.values]\n",
    "pd.DataFrame({'Features': dtrain.columns.values, 'Nulls': nullCount})"
   ]
  },
  {
   "cell_type": "markdown",
   "metadata": {},
   "source": [
    "##### 3. Data Types & Type Counts"
   ]
  },
  {
   "cell_type": "code",
   "execution_count": 336,
   "metadata": {},
   "outputs": [
    {
     "data": {
      "text/plain": [
       "Loan_ID               object\n",
       "Gender                object\n",
       "Married               object\n",
       "Dependents            object\n",
       "Education             object\n",
       "Self_Employed         object\n",
       "ApplicantIncome        int64\n",
       "CoapplicantIncome    float64\n",
       "LoanAmount           float64\n",
       "Loan_Amount_Term     float64\n",
       "Credit_History       float64\n",
       "Property_Area         object\n",
       "Loan_Status           object\n",
       "dtype: object"
      ]
     },
     "execution_count": 336,
     "metadata": {},
     "output_type": "execute_result"
    }
   ],
   "source": [
    "dtrain.dtypes"
   ]
  },
  {
   "cell_type": "code",
   "execution_count": 337,
   "metadata": {},
   "outputs": [
    {
     "data": {
      "text/html": [
       "<div>\n",
       "<style>\n",
       "    .dataframe thead tr:only-child th {\n",
       "        text-align: right;\n",
       "    }\n",
       "\n",
       "    .dataframe thead th {\n",
       "        text-align: left;\n",
       "    }\n",
       "\n",
       "    .dataframe tbody tr th {\n",
       "        vertical-align: top;\n",
       "    }\n",
       "</style>\n",
       "<table border=\"1\" class=\"dataframe\">\n",
       "  <thead>\n",
       "    <tr style=\"text-align: right;\">\n",
       "      <th></th>\n",
       "      <th>Type</th>\n",
       "      <th>Count</th>\n",
       "    </tr>\n",
       "  </thead>\n",
       "  <tbody>\n",
       "    <tr>\n",
       "      <th>0</th>\n",
       "      <td>int64</td>\n",
       "      <td>1</td>\n",
       "    </tr>\n",
       "    <tr>\n",
       "      <th>1</th>\n",
       "      <td>float64</td>\n",
       "      <td>4</td>\n",
       "    </tr>\n",
       "    <tr>\n",
       "      <th>2</th>\n",
       "      <td>object</td>\n",
       "      <td>8</td>\n",
       "    </tr>\n",
       "  </tbody>\n",
       "</table>\n",
       "</div>"
      ],
      "text/plain": [
       "      Type  Count\n",
       "0    int64      1\n",
       "1  float64      4\n",
       "2   object      8"
      ]
     },
     "execution_count": 337,
     "metadata": {},
     "output_type": "execute_result"
    }
   ],
   "source": [
    "dtrain_type = dtrain.dtypes.reset_index()\n",
    "dtrain_type.columns = [\"Count\", \"Type\"]\n",
    "dtrain_type.groupby('Type').aggregate('count').reset_index()"
   ]
  },
  {
   "cell_type": "markdown",
   "metadata": {},
   "source": [
    "##### 4. Unique values for categorical Features"
   ]
  },
  {
   "cell_type": "code",
   "execution_count": 338,
   "metadata": {},
   "outputs": [
    {
     "name": "stdout",
     "output_type": "stream",
     "text": [
      "Gender                    ['Male' 'Female' nan]\n",
      "Married                        ['No' 'Yes' nan]\n",
      "Education           ['Graduate' 'Not Graduate']\n",
      "Self_Employed                  ['No' 'Yes' nan]\n",
      "Property_Area     ['Urban' 'Rural' 'Semiurban']\n"
     ]
    }
   ],
   "source": [
    "categorical_features = ['Gender', 'Married', \n",
    "                        'Education', 'Self_Employed', 'Property_Area']\n",
    "for each in categorical_features:\n",
    "    print(each + str(dtrain[each].unique()).\n",
    "          rjust(len(max(dtrain.columns.values.tolist(),\n",
    "                        key=len)) + 30 - len(each)))"
   ]
  },
  {
   "cell_type": "markdown",
   "metadata": {},
   "source": [
    "### Data Cleaning"
   ]
  },
  {
   "cell_type": "markdown",
   "metadata": {},
   "source": [
    "##### 1. Cleaning NaN values"
   ]
  },
  {
   "cell_type": "code",
   "execution_count": 339,
   "metadata": {},
   "outputs": [
    {
     "data": {
      "text/plain": [
       "array(['0', '1', '2', '3+', nan], dtype=object)"
      ]
     },
     "execution_count": 339,
     "metadata": {},
     "output_type": "execute_result"
    }
   ],
   "source": [
    "dtrain.Dependents.unique()"
   ]
  },
  {
   "cell_type": "markdown",
   "metadata": {},
   "source": [
    "Let's handle the variable **```Dependents```**. Unique values of dependents are 0, 1, 2, 3+ and NaN. It is natural that entires with NaN values have 0 dependents. So we shall fill NaN with 0 for this column"
   ]
  },
  {
   "cell_type": "code",
   "execution_count": 340,
   "metadata": {
    "collapsed": true
   },
   "outputs": [],
   "source": [
    "dtrain.Dependents.fillna(0, inplace=True)\n",
    "dtest.Dependents.fillna(0, inplace=True)"
   ]
  },
  {
   "cell_type": "code",
   "execution_count": 341,
   "metadata": {},
   "outputs": [
    {
     "data": {
      "text/plain": [
       "array(['No', 'Yes', nan], dtype=object)"
      ]
     },
     "execution_count": 341,
     "metadata": {},
     "output_type": "execute_result"
    }
   ],
   "source": [
    "dtrain.Self_Employed.unique()"
   ]
  },
  {
   "cell_type": "markdown",
   "metadata": {},
   "source": [
    "Next column is **```Self_Employed```**. If they are self employed then **Yes** else **No**. But then NaN in self employed may mean they are not at all employed. Hence we are filling NaNs with NE(Not Employed). The reason we can not drop entries with NaN is because we have very limited number of 614 data points. Losing any data could be bad."
   ]
  },
  {
   "cell_type": "code",
   "execution_count": 342,
   "metadata": {
    "collapsed": true
   },
   "outputs": [],
   "source": [
    "dtrain.Self_Employed.replace(np.nan, 'NE', inplace=True)\n",
    "dtest.Self_Employed.replace(np.nan, 'NE', inplace=True)"
   ]
  },
  {
   "cell_type": "markdown",
   "metadata": {},
   "source": [
    "Next is **```LoanAmount```**. This is a very important feature but we still see some NaNs. We are filling the NaNs with the *median* of all the ```LoanAmount```"
   ]
  },
  {
   "cell_type": "code",
   "execution_count": 343,
   "metadata": {
    "collapsed": true
   },
   "outputs": [],
   "source": [
    "dtrain.LoanAmount.replace(np.nan, dtrain.LoanAmount.median(), inplace=True)\n",
    "dtest.LoanAmount.replace(np.nan, dtest.LoanAmount.median(), inplace=True)"
   ]
  },
  {
   "cell_type": "code",
   "execution_count": 344,
   "metadata": {},
   "outputs": [
    {
     "data": {
      "text/plain": [
       "array([  1.,   0.,  nan])"
      ]
     },
     "execution_count": 344,
     "metadata": {},
     "output_type": "execute_result"
    }
   ],
   "source": [
    "dtrain.Credit_History.unique()"
   ]
  },
  {
   "cell_type": "markdown",
   "metadata": {},
   "source": [
    "We are handling the **```Credit_History```** and **```Loan_Amount_Term```** in the same way"
   ]
  },
  {
   "cell_type": "code",
   "execution_count": 345,
   "metadata": {
    "collapsed": true
   },
   "outputs": [],
   "source": [
    "dtrain.Credit_History.replace(np.nan, dtrain.Credit_History.median(), inplace=True)\n",
    "dtrain.Loan_Amount_Term.replace(np.nan, dtrain.Loan_Amount_Term.median(), inplace=True)\n",
    "\n",
    "dtest.Credit_History.replace(np.nan, dtest.Credit_History.median(), inplace=True)\n",
    "dtest.Loan_Amount_Term.replace(np.nan, dtest.Loan_Amount_Term.median(), inplace=True)"
   ]
  },
  {
   "cell_type": "code",
   "execution_count": 346,
   "metadata": {},
   "outputs": [
    {
     "data": {
      "text/plain": [
       "array(['Male', 'Female', nan], dtype=object)"
      ]
     },
     "execution_count": 346,
     "metadata": {},
     "output_type": "execute_result"
    }
   ],
   "source": [
    "dtrain.Gender.unique()"
   ]
  },
  {
   "cell_type": "markdown",
   "metadata": {},
   "source": [
    "**```Gender```** is something that would have two values namely, 'Male' and 'Female'. But here we also have NaN. We may consider them as 'Trans' to accomodate the category"
   ]
  },
  {
   "cell_type": "code",
   "execution_count": 347,
   "metadata": {},
   "outputs": [
    {
     "data": {
      "text/plain": [
       "array(['Male', 'Female', 'Trans'], dtype=object)"
      ]
     },
     "execution_count": 347,
     "metadata": {},
     "output_type": "execute_result"
    }
   ],
   "source": [
    "dtrain.Gender.replace(np.nan, 'Trans', inplace=True)\n",
    "dtest.Gender.replace(np.nan, 'Trans', inplace=True)\n",
    "dtrain.Gender.unique()"
   ]
  },
  {
   "cell_type": "code",
   "execution_count": 348,
   "metadata": {},
   "outputs": [
    {
     "data": {
      "text/plain": [
       "array(['No', 'Yes', nan], dtype=object)"
      ]
     },
     "execution_count": 348,
     "metadata": {},
     "output_type": "execute_result"
    }
   ],
   "source": [
    "dtrain.Married.unique()"
   ]
  },
  {
   "cell_type": "markdown",
   "metadata": {},
   "source": [
    "Similarly we can also fill the NaN in **```Married```** as 'Other'. "
   ]
  },
  {
   "cell_type": "code",
   "execution_count": 349,
   "metadata": {
    "collapsed": true
   },
   "outputs": [],
   "source": [
    "dtrain.Married.replace(np.nan, 'Other', inplace=True)\n",
    "dtest.Married.replace(np.nan, 'Other', inplace=True)"
   ]
  },
  {
   "cell_type": "markdown",
   "metadata": {},
   "source": [
    "##### 2. Stroring data for EDA"
   ]
  },
  {
   "cell_type": "code",
   "execution_count": 350,
   "metadata": {
    "collapsed": true
   },
   "outputs": [],
   "source": [
    "eda_data = dtrain.copy(deep=True)"
   ]
  },
  {
   "cell_type": "markdown",
   "metadata": {},
   "source": [
    "##### 3. Encoding Categorical Variables"
   ]
  },
  {
   "cell_type": "markdown",
   "metadata": {},
   "source": [
    "Converting all categorical vairiables into labels to process with Machine Learning"
   ]
  },
  {
   "cell_type": "code",
   "execution_count": 351,
   "metadata": {},
   "outputs": [],
   "source": [
    "from sklearn.preprocessing import LabelEncoder, LabelBinarizer\n",
    "number = LabelEncoder()\n",
    "bi_number = LabelBinarizer()\n",
    "dtrain['Married'] = number.fit_transform(dtrain.Married.astype('str'))\n",
    "dtrain['Loan_Status'] = bi_number.fit_transform(dtrain.Loan_Status.astype('str'))\n",
    "dtrain['Self_Employed'] = number.fit_transform(dtrain.Self_Employed.astype('str'))\n",
    "\n",
    "dtest['Married'] = number.fit_transform(dtest.Married.astype('str'))\n",
    "dtest['Self_Employed'] = number.fit_transform(dtest.Self_Employed.astype('str'))"
   ]
  },
  {
   "cell_type": "markdown",
   "metadata": {},
   "source": [
    "For *Property_Area*, *Gender* and *Education* we are performing ratio of the counts of True Loan_Status count to the total Loan_Status Count "
   ]
  },
  {
   "cell_type": "code",
   "execution_count": 352,
   "metadata": {
    "collapsed": true
   },
   "outputs": [],
   "source": [
    "import hashlib\n",
    "def convert_to_hashes(elem):\n",
    "    return round(int(hashlib.md5(elem.encode('utf-8')).hexdigest(), 16) / 1e35, 5)\n",
    "dtrain['Gender'] = dtrain['Gender'].apply(convert_to_hashes)\n",
    "dtest['Gender'] = dtest['Gender'].apply(convert_to_hashes)"
   ]
  },
  {
   "cell_type": "code",
   "execution_count": 353,
   "metadata": {
    "scrolled": true
   },
   "outputs": [],
   "source": [
    "property_counts = dtrain.groupby('Property_Area').Loan_Status.value_counts()\n",
    "# gender_counts = dtrain.groupby('Gender').Loan_Status.value_counts()\n",
    "edu_count = dtrain.groupby('Education').Loan_Status.value_counts()"
   ]
  },
  {
   "cell_type": "code",
   "execution_count": 354,
   "metadata": {},
   "outputs": [],
   "source": [
    "# a = (np.array(dtrain.Education ) == 'Graduate')\n",
    "# b = (np.array(dtrain.Education ) == 'Not Graduate')\n",
    "# dtrain['Graduate'] = a\n",
    "# dtrain['Not Graduate'] = b\n",
    "# dtrain['Graduate'] = dtrain.Graduate.map({True: 1, False: 0})\n",
    "# dtrain['Not Graduate'] = dtrain.Graduate.map({True: 0, False: 1})\n",
    "# ls = dtrain.Loan_Status\n",
    "# dtrain.drop(['Loan_Status', 'Education'], axis=1, inplace=True)\n",
    "# dtrain['Loan_Status'] = ls\n",
    "\n",
    "# a = (np.array(dtest.Education ) == 'Graduate')\n",
    "# b = (np.array(dtest.Education ) == 'Not Graduate')\n",
    "# dtest['Graduate'] = a\n",
    "# dtest['Not Graduate'] = b\n",
    "# dtest['Graduate'] = dtest.Graduate.map({True: 1, False: 0})\n",
    "# dtest['Not Graduate'] = dtest.Graduate.map({True: 0, False: 1})\n",
    "# dtest.drop(['Education'], axis=1, inplace=True)"
   ]
  },
  {
   "cell_type": "code",
   "execution_count": 355,
   "metadata": {
    "scrolled": true
   },
   "outputs": [],
   "source": [
    "### For Property_Area ###\n",
    "dtrain.loc[dtrain.Property_Area == 'Rural', 'Property_Area'] = property_counts[0] / (property_counts[0] + \n",
    "                                                                                     property_counts[1])\n",
    "dtrain.loc[dtrain.Property_Area == 'Semiurban', 'Property_Area'] = property_counts[2] / (property_counts[2] + \n",
    "                                                                                         property_counts[3])\n",
    "dtrain.loc[dtrain.Property_Area == 'Urban', 'Property_Area'] = property_counts[4] / (property_counts[4] + \n",
    "                                                                                     property_counts[5])\n",
    "\n",
    "dtest.loc[dtest.Property_Area == 'Rural', 'Property_Area'] = property_counts[0] / (property_counts[0] + \n",
    "                                                                                     property_counts[1])\n",
    "dtest.loc[dtest.Property_Area == 'Semiurban', 'Property_Area'] = property_counts[2] / (property_counts[2] + \n",
    "                                                                                         property_counts[3])\n",
    "dtest.loc[dtest.Property_Area == 'Urban', 'Property_Area'] = property_counts[4] / (property_counts[4] + \n",
    "                                                                                     property_counts[5])\n",
    "\n",
    "### For Gender ###\n",
    "# dtrain.loc[dtrain.Gender == 'Male', 'Gender'] = gender_counts[2] / (gender_counts[2] + \n",
    "#                                                                     gender_counts[3])\n",
    "# dtrain.loc[dtrain.Gender == 'Female', 'Gender'] = gender_counts[0] / (gender_counts[0] + \n",
    "#                                                                       gender_counts[1])\n",
    "# dtrain.loc[dtrain.Gender == 'Trans', 'Gender'] = gender_counts[4] / (gender_counts[4] + \n",
    "#                                                                      gender_counts[5])\n",
    "\n",
    "# dtest.loc[dtest.Gender == 'Male', 'Gender'] = gender_counts[2] / (gender_counts[2] + \n",
    "#                                                                     gender_counts[3])\n",
    "# dtest.loc[dtest.Gender == 'Female', 'Gender'] = gender_counts[0] / (gender_counts[0] + \n",
    "#                                                                       gender_counts[1])\n",
    "# dtest.loc[dtest.Gender == 'Trans', 'Gender'] = gender_counts[4] / (gender_counts[4] + \n",
    "#                                                                      gender_counts[5])\n",
    "### For Education ###\n",
    "dtrain.loc[dtrain.Education == 'Graduate', 'Education'] = edu_count[0] / (edu_count[1] + edu_count[0])\n",
    "dtrain.loc[dtrain.Education == 'Not Graduate', 'Education'] = edu_count[2] / (edu_count[2] + edu_count[3])\n",
    "\n",
    "dtest.loc[dtest.Education == 'Graduate', 'Education'] = edu_count[0] / (edu_count[1] + edu_count[0])\n",
    "dtest.loc[dtest.Education == 'Not Graduate', 'Education'] = edu_count[2] / (edu_count[2] + edu_count[3])\n"
   ]
  },
  {
   "cell_type": "code",
   "execution_count": 356,
   "metadata": {
    "scrolled": true
   },
   "outputs": [
    {
     "data": {
      "text/plain": [
       "(614, 13)"
      ]
     },
     "execution_count": 356,
     "metadata": {},
     "output_type": "execute_result"
    }
   ],
   "source": [
    "dtrain.shape"
   ]
  },
  {
   "cell_type": "markdown",
   "metadata": {},
   "source": [
    "We are filling all the **```Dependents```** of value **3+** with a value **6** because on an average number of dependents in a family never becomes more than 9 or 10. So mean of 3 and 9 is 6 hence we are filling it with 9"
   ]
  },
  {
   "cell_type": "code",
   "execution_count": 357,
   "metadata": {
    "collapsed": true
   },
   "outputs": [],
   "source": [
    "dtrain.Dependents.replace('3+', 6, inplace=True)\n",
    "dtest.Dependents.replace('3+', 6, inplace=True)"
   ]
  },
  {
   "cell_type": "code",
   "execution_count": 359,
   "metadata": {
    "scrolled": true
   },
   "outputs": [
    {
     "data": {
      "text/plain": [
       "array([ 1323.02908,  2433.82711,    16.98884])"
      ]
     },
     "execution_count": 359,
     "metadata": {},
     "output_type": "execute_result"
    }
   ],
   "source": [
    "dtrain.Gender.unique()"
   ]
  },
  {
   "cell_type": "markdown",
   "metadata": {},
   "source": [
    "##### 4. DataType Conversion"
   ]
  },
  {
   "cell_type": "code",
   "execution_count": 360,
   "metadata": {
    "collapsed": true,
    "scrolled": true
   },
   "outputs": [],
   "source": [
    "dtrain['Married'] = dtrain.Married.astype(int)\n",
    "dtrain['Gender'] = dtrain.Gender.astype(float)\n",
    "dtrain['Dependents'] = dtrain.Dependents.astype(int)\n",
    "dtrain['Education'] = dtrain.Education.astype(float)\n",
    "dtrain['Property_Area'] = dtrain.Property_Area.astype(float)\n",
    "\n",
    "dtest['Married'] = dtest.Married.astype(int)\n",
    "dtest['Gender'] = dtest.Gender.astype(float)\n",
    "dtest['Dependents'] = dtest.Dependents.astype(int)\n",
    "dtest['Education'] = dtest.Education.astype(float)\n",
    "dtest['Property_Area'] = dtest.Property_Area.astype(float)"
   ]
  },
  {
   "cell_type": "code",
   "execution_count": 361,
   "metadata": {},
   "outputs": [],
   "source": [
    "# Removing the Outliers\n",
    "dtrain = dtrain[np.abs(dtrain.ApplicantIncome-dtrain.ApplicantIncome.mean())<=(3*dtrain.ApplicantIncome.std())]\n",
    "dtrain = dtrain[np.abs(dtrain.CoapplicantIncome-dtrain.CoapplicantIncome.mean())<=(3*dtrain.CoapplicantIncome.std())]\n",
    "dtrain = dtrain[np.abs(dtrain.LoanAmount-dtrain.LoanAmount.mean())<=(3*dtrain.LoanAmount.std())]\n",
    "dtrain = dtrain[np.abs(dtrain.Loan_Amount_Term-dtrain.Loan_Amount_Term.mean())<=(3*dtrain.Loan_Amount_Term.std())]"
   ]
  },
  {
   "cell_type": "code",
   "execution_count": 362,
   "metadata": {
    "collapsed": true
   },
   "outputs": [],
   "source": [
    "# Putting cleaned train data to a new csv\n",
    "dtrain.to_csv('data/cleaned_train.csv')\n",
    "dtest.to_csv('data/cleaned_test.csv')"
   ]
  },
  {
   "cell_type": "markdown",
   "metadata": {},
   "source": [
    "### Univarite Analysis"
   ]
  },
  {
   "cell_type": "markdown",
   "metadata": {},
   "source": [
    "##### 1. Distribution of the Loan Amount"
   ]
  },
  {
   "cell_type": "code",
   "execution_count": 363,
   "metadata": {},
   "outputs": [
    {
     "data": {
      "image/png": "[encoded data removed]",
      "text/plain": [
       "<matplotlib.figure.Figure at 0x11143e978>"
      ]
     },
     "metadata": {},
     "output_type": "display_data"
    }
   ],
   "source": [
    "sns.distplot(dtrain.ApplicantIncome)\n",
    "plt.show()"
   ]
  },
  {
   "cell_type": "code",
   "execution_count": 364,
   "metadata": {},
   "outputs": [
    {
     "data": {
      "text/plain": [
       "20667"
      ]
     },
     "execution_count": 364,
     "metadata": {},
     "output_type": "execute_result"
    }
   ],
   "source": [
    "dtrain.ApplicantIncome.max()"
   ]
  },
  {
   "cell_type": "code",
   "execution_count": 369,
   "metadata": {},
   "outputs": [],
   "source": [
    "dtrain['Loan_ID'] = dtrain.Loan_ID.apply(convert_to_hashes)"
   ]
  },
  {
   "cell_type": "code",
   "execution_count": 370,
   "metadata": {},
   "outputs": [
    {
     "data": {
      "text/html": [
       "<div>\n",
       "<style>\n",
       "    .dataframe thead tr:only-child th {\n",
       "        text-align: right;\n",
       "    }\n",
       "\n",
       "    .dataframe thead th {\n",
       "        text-align: left;\n",
       "    }\n",
       "\n",
       "    .dataframe tbody tr th {\n",
       "        vertical-align: top;\n",
       "    }\n",
       "</style>\n",
       "<table border=\"1\" class=\"dataframe\">\n",
       "  <thead>\n",
       "    <tr style=\"text-align: right;\">\n",
       "      <th></th>\n",
       "      <th>Loan_ID</th>\n",
       "      <th>Gender</th>\n",
       "      <th>Married</th>\n",
       "      <th>Dependents</th>\n",
       "      <th>Education</th>\n",
       "      <th>Self_Employed</th>\n",
       "      <th>ApplicantIncome</th>\n",
       "      <th>CoapplicantIncome</th>\n",
       "      <th>LoanAmount</th>\n",
       "      <th>Loan_Amount_Term</th>\n",
       "      <th>Credit_History</th>\n",
       "      <th>Property_Area</th>\n",
       "      <th>Loan_Status</th>\n",
       "    </tr>\n",
       "  </thead>\n",
       "  <tbody>\n",
       "    <tr>\n",
       "      <th>Loan_ID</th>\n",
       "      <td>1.000000</td>\n",
       "      <td>0.018836</td>\n",
       "      <td>-0.091448</td>\n",
       "      <td>0.023294</td>\n",
       "      <td>0.021740</td>\n",
       "      <td>0.061975</td>\n",
       "      <td>0.078535</td>\n",
       "      <td>0.031374</td>\n",
       "      <td>0.035446</td>\n",
       "      <td>-0.023151</td>\n",
       "      <td>-0.064549</td>\n",
       "      <td>0.010282</td>\n",
       "      <td>-0.009413</td>\n",
       "    </tr>\n",
       "    <tr>\n",
       "      <th>Gender</th>\n",
       "      <td>0.018836</td>\n",
       "      <td>1.000000</td>\n",
       "      <td>-0.352723</td>\n",
       "      <td>-0.150354</td>\n",
       "      <td>0.025076</td>\n",
       "      <td>-0.044951</td>\n",
       "      <td>-0.034440</td>\n",
       "      <td>-0.181117</td>\n",
       "      <td>-0.155391</td>\n",
       "      <td>0.098881</td>\n",
       "      <td>0.004920</td>\n",
       "      <td>0.076422</td>\n",
       "      <td>-0.000012</td>\n",
       "    </tr>\n",
       "    <tr>\n",
       "      <th>Married</th>\n",
       "      <td>-0.091448</td>\n",
       "      <td>-0.352723</td>\n",
       "      <td>1.000000</td>\n",
       "      <td>0.266627</td>\n",
       "      <td>-0.029241</td>\n",
       "      <td>-0.001205</td>\n",
       "      <td>-0.015247</td>\n",
       "      <td>0.238039</td>\n",
       "      <td>0.157480</td>\n",
       "      <td>-0.128082</td>\n",
       "      <td>0.019704</td>\n",
       "      <td>0.016328</td>\n",
       "      <td>0.086811</td>\n",
       "    </tr>\n",
       "    <tr>\n",
       "      <th>Dependents</th>\n",
       "      <td>0.023294</td>\n",
       "      <td>-0.150354</td>\n",
       "      <td>0.266627</td>\n",
       "      <td>1.000000</td>\n",
       "      <td>-0.073698</td>\n",
       "      <td>0.036952</td>\n",
       "      <td>0.069918</td>\n",
       "      <td>-0.044890</td>\n",
       "      <td>0.118532</td>\n",
       "      <td>-0.082643</td>\n",
       "      <td>-0.025719</td>\n",
       "      <td>0.013634</td>\n",
       "      <td>0.000928</td>\n",
       "    </tr>\n",
       "    <tr>\n",
       "      <th>Education</th>\n",
       "      <td>0.021740</td>\n",
       "      <td>0.025076</td>\n",
       "      <td>-0.029241</td>\n",
       "      <td>-0.073698</td>\n",
       "      <td>1.000000</td>\n",
       "      <td>-0.004356</td>\n",
       "      <td>0.164344</td>\n",
       "      <td>0.032647</td>\n",
       "      <td>0.146121</td>\n",
       "      <td>0.091299</td>\n",
       "      <td>0.077510</td>\n",
       "      <td>0.064100</td>\n",
       "      <td>0.093697</td>\n",
       "    </tr>\n",
       "    <tr>\n",
       "      <th>Self_Employed</th>\n",
       "      <td>0.061975</td>\n",
       "      <td>-0.044951</td>\n",
       "      <td>-0.001205</td>\n",
       "      <td>0.036952</td>\n",
       "      <td>-0.004356</td>\n",
       "      <td>1.000000</td>\n",
       "      <td>0.227412</td>\n",
       "      <td>-0.054190</td>\n",
       "      <td>0.088501</td>\n",
       "      <td>-0.022905</td>\n",
       "      <td>-0.045246</td>\n",
       "      <td>0.033237</td>\n",
       "      <td>-0.027470</td>\n",
       "    </tr>\n",
       "    <tr>\n",
       "      <th>ApplicantIncome</th>\n",
       "      <td>0.078535</td>\n",
       "      <td>-0.034440</td>\n",
       "      <td>-0.015247</td>\n",
       "      <td>0.069918</td>\n",
       "      <td>0.164344</td>\n",
       "      <td>0.227412</td>\n",
       "      <td>1.000000</td>\n",
       "      <td>-0.241851</td>\n",
       "      <td>0.433438</td>\n",
       "      <td>-0.050337</td>\n",
       "      <td>0.041499</td>\n",
       "      <td>-0.027461</td>\n",
       "      <td>-0.003354</td>\n",
       "    </tr>\n",
       "    <tr>\n",
       "      <th>CoapplicantIncome</th>\n",
       "      <td>0.031374</td>\n",
       "      <td>-0.181117</td>\n",
       "      <td>0.238039</td>\n",
       "      <td>-0.044890</td>\n",
       "      <td>0.032647</td>\n",
       "      <td>-0.054190</td>\n",
       "      <td>-0.241851</td>\n",
       "      <td>1.000000</td>\n",
       "      <td>0.280714</td>\n",
       "      <td>-0.054284</td>\n",
       "      <td>-0.005077</td>\n",
       "      <td>-0.017752</td>\n",
       "      <td>0.046987</td>\n",
       "    </tr>\n",
       "    <tr>\n",
       "      <th>LoanAmount</th>\n",
       "      <td>0.035446</td>\n",
       "      <td>-0.155391</td>\n",
       "      <td>0.157480</td>\n",
       "      <td>0.118532</td>\n",
       "      <td>0.146121</td>\n",
       "      <td>0.088501</td>\n",
       "      <td>0.433438</td>\n",
       "      <td>0.280714</td>\n",
       "      <td>1.000000</td>\n",
       "      <td>0.046580</td>\n",
       "      <td>0.025302</td>\n",
       "      <td>-0.001942</td>\n",
       "      <td>-0.025017</td>\n",
       "    </tr>\n",
       "    <tr>\n",
       "      <th>Loan_Amount_Term</th>\n",
       "      <td>-0.023151</td>\n",
       "      <td>0.098881</td>\n",
       "      <td>-0.128082</td>\n",
       "      <td>-0.082643</td>\n",
       "      <td>0.091299</td>\n",
       "      <td>-0.022905</td>\n",
       "      <td>-0.050337</td>\n",
       "      <td>-0.054284</td>\n",
       "      <td>0.046580</td>\n",
       "      <td>1.000000</td>\n",
       "      <td>0.029189</td>\n",
       "      <td>0.065435</td>\n",
       "      <td>-0.018677</td>\n",
       "    </tr>\n",
       "    <tr>\n",
       "      <th>Credit_History</th>\n",
       "      <td>-0.064549</td>\n",
       "      <td>0.004920</td>\n",
       "      <td>0.019704</td>\n",
       "      <td>-0.025719</td>\n",
       "      <td>0.077510</td>\n",
       "      <td>-0.045246</td>\n",
       "      <td>0.041499</td>\n",
       "      <td>-0.005077</td>\n",
       "      <td>0.025302</td>\n",
       "      <td>0.029189</td>\n",
       "      <td>1.000000</td>\n",
       "      <td>0.036791</td>\n",
       "      <td>0.558416</td>\n",
       "    </tr>\n",
       "    <tr>\n",
       "      <th>Property_Area</th>\n",
       "      <td>0.010282</td>\n",
       "      <td>0.076422</td>\n",
       "      <td>0.016328</td>\n",
       "      <td>0.013634</td>\n",
       "      <td>0.064100</td>\n",
       "      <td>0.033237</td>\n",
       "      <td>-0.027461</td>\n",
       "      <td>-0.017752</td>\n",
       "      <td>-0.001942</td>\n",
       "      <td>0.065435</td>\n",
       "      <td>0.036791</td>\n",
       "      <td>1.000000</td>\n",
       "      <td>0.143876</td>\n",
       "    </tr>\n",
       "    <tr>\n",
       "      <th>Loan_Status</th>\n",
       "      <td>-0.009413</td>\n",
       "      <td>-0.000012</td>\n",
       "      <td>0.086811</td>\n",
       "      <td>0.000928</td>\n",
       "      <td>0.093697</td>\n",
       "      <td>-0.027470</td>\n",
       "      <td>-0.003354</td>\n",
       "      <td>0.046987</td>\n",
       "      <td>-0.025017</td>\n",
       "      <td>-0.018677</td>\n",
       "      <td>0.558416</td>\n",
       "      <td>0.143876</td>\n",
       "      <td>1.000000</td>\n",
       "    </tr>\n",
       "  </tbody>\n",
       "</table>\n",
       "</div>"
      ],
      "text/plain": [
       "                    Loan_ID    Gender   Married  Dependents  Education  \\\n",
       "Loan_ID            1.000000  0.018836 -0.091448    0.023294   0.021740   \n",
       "Gender             0.018836  1.000000 -0.352723   -0.150354   0.025076   \n",
       "Married           -0.091448 -0.352723  1.000000    0.266627  -0.029241   \n",
       "Dependents         0.023294 -0.150354  0.266627    1.000000  -0.073698   \n",
       "Education          0.021740  0.025076 -0.029241   -0.073698   1.000000   \n",
       "Self_Employed      0.061975 -0.044951 -0.001205    0.036952  -0.004356   \n",
       "ApplicantIncome    0.078535 -0.034440 -0.015247    0.069918   0.164344   \n",
       "CoapplicantIncome  0.031374 -0.181117  0.238039   -0.044890   0.032647   \n",
       "LoanAmount         0.035446 -0.155391  0.157480    0.118532   0.146121   \n",
       "Loan_Amount_Term  -0.023151  0.098881 -0.128082   -0.082643   0.091299   \n",
       "Credit_History    -0.064549  0.004920  0.019704   -0.025719   0.077510   \n",
       "Property_Area      0.010282  0.076422  0.016328    0.013634   0.064100   \n",
       "Loan_Status       -0.009413 -0.000012  0.086811    0.000928   0.093697   \n",
       "\n",
       "                   Self_Employed  ApplicantIncome  CoapplicantIncome  \\\n",
       "Loan_ID                 0.061975         0.078535           0.031374   \n",
       "Gender                 -0.044951        -0.034440          -0.181117   \n",
       "Married                -0.001205        -0.015247           0.238039   \n",
       "Dependents              0.036952         0.069918          -0.044890   \n",
       "Education              -0.004356         0.164344           0.032647   \n",
       "Self_Employed           1.000000         0.227412          -0.054190   \n",
       "ApplicantIncome         0.227412         1.000000          -0.241851   \n",
       "CoapplicantIncome      -0.054190        -0.241851           1.000000   \n",
       "LoanAmount              0.088501         0.433438           0.280714   \n",
       "Loan_Amount_Term       -0.022905        -0.050337          -0.054284   \n",
       "Credit_History         -0.045246         0.041499          -0.005077   \n",
       "Property_Area           0.033237        -0.027461          -0.017752   \n",
       "Loan_Status            -0.027470        -0.003354           0.046987   \n",
       "\n",
       "                   LoanAmount  Loan_Amount_Term  Credit_History  \\\n",
       "Loan_ID              0.035446         -0.023151       -0.064549   \n",
       "Gender              -0.155391          0.098881        0.004920   \n",
       "Married              0.157480         -0.128082        0.019704   \n",
       "Dependents           0.118532         -0.082643       -0.025719   \n",
       "Education            0.146121          0.091299        0.077510   \n",
       "Self_Employed        0.088501         -0.022905       -0.045246   \n",
       "ApplicantIncome      0.433438         -0.050337        0.041499   \n",
       "CoapplicantIncome    0.280714         -0.054284       -0.005077   \n",
       "LoanAmount           1.000000          0.046580        0.025302   \n",
       "Loan_Amount_Term     0.046580          1.000000        0.029189   \n",
       "Credit_History       0.025302          0.029189        1.000000   \n",
       "Property_Area       -0.001942          0.065435        0.036791   \n",
       "Loan_Status         -0.025017         -0.018677        0.558416   \n",
       "\n",
       "                   Property_Area  Loan_Status  \n",
       "Loan_ID                 0.010282    -0.009413  \n",
       "Gender                  0.076422    -0.000012  \n",
       "Married                 0.016328     0.086811  \n",
       "Dependents              0.013634     0.000928  \n",
       "Education               0.064100     0.093697  \n",
       "Self_Employed           0.033237    -0.027470  \n",
       "ApplicantIncome        -0.027461    -0.003354  \n",
       "CoapplicantIncome      -0.017752     0.046987  \n",
       "LoanAmount             -0.001942    -0.025017  \n",
       "Loan_Amount_Term        0.065435    -0.018677  \n",
       "Credit_History          0.036791     0.558416  \n",
       "Property_Area           1.000000     0.143876  \n",
       "Loan_Status             0.143876     1.000000  "
      ]
     },
     "execution_count": 370,
     "metadata": {},
     "output_type": "execute_result"
    }
   ],
   "source": [
    "dtrain.corr()"
   ]
  },
  {
   "cell_type": "code",
   "execution_count": null,
   "metadata": {
    "collapsed": true
   },
   "outputs": [],
   "source": []
  }
 ],
 "metadata": {
  "kernelspec": {
   "display_name": "Python 3",
   "language": "python",
   "name": "python3"
  },
  "language_info": {
   "codemirror_mode": {
    "name": "ipython",
    "version": 3
   },
   "file_extension": ".py",
   "mimetype": "text/x-python",
   "name": "python",
   "nbconvert_exporter": "python",
   "pygments_lexer": "ipython3",
   "version": "3.6.1"
  }
 },
 "nbformat": 4,
 "nbformat_minor": 2
}
